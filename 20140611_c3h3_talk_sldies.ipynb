{
 "metadata": {
  "celltoolbar": "Slideshow",
  "name": "",
  "signature": "sha256:111e1f14a4287a4b61cba8ce1e8c3b21e79054067fc57921907fcf6783795ac8"
 },
 "nbformat": 3,
 "nbformat_minor": 0,
 "worksheets": [
  {
   "cells": [
    {
     "cell_type": "markdown",
     "metadata": {
      "slideshow": {
       "slide_type": "slide"
      }
     },
     "source": [
      "# \u7ffb\u8f49\uff1f \u6559\u5ba4"
     ]
    },
    {
     "cell_type": "markdown",
     "metadata": {
      "slideshow": {
       "slide_type": "-"
      }
     },
     "source": [
      "## c3h3.tw@gmail.com"
     ]
    },
    {
     "cell_type": "markdown",
     "metadata": {
      "slideshow": {
       "slide_type": "subslide"
      }
     },
     "source": [
      "# \u5927\u5bb6\u597d ... "
     ]
    },
    {
     "cell_type": "markdown",
     "metadata": {
      "slideshow": {
       "slide_type": "fragment"
      }
     },
     "source": [
      "# \u6211\u4eca\u5929\u4e0d\u662f\u4f86\u8a0e\u8ad6\u751a\u78e8\u662f \u300c\u7ffb\u8f49\u6559\u5ba4\u300d ... "
     ]
    },
    {
     "cell_type": "markdown",
     "metadata": {
      "slideshow": {
       "slide_type": "fragment"
      }
     },
     "source": [
      "# \u8acb\u4e0d\u8981\u6230\u6211 ... XD ... "
     ]
    },
    {
     "cell_type": "markdown",
     "metadata": {
      "slideshow": {
       "slide_type": "subslide"
      }
     },
     "source": [
      "# \u53ea\u662f ... \u6211\u89ba\u5f97\u5728\u300c\u7ffb\u8f49\u6559\u5ba4\u300d\u4e2d\u4e0a\u8ab2 ... "
     ]
    },
    {
     "cell_type": "markdown",
     "metadata": {
      "slideshow": {
       "slide_type": "-"
      }
     },
     "source": [
      "# \u597d\u50cf\u61c9\u8a72\u300c\u7ffb\u8f49\u300d\u4e9b\u6771\u897f ... "
     ]
    },
    {
     "cell_type": "markdown",
     "metadata": {
      "slideshow": {
       "slide_type": "subslide"
      }
     },
     "source": [
      "# \u56e0\u70ba\u525b\u597d\u6700\u8fd1\u5728\u8a0e\u8ad6 Web Dev ... "
     ]
    },
    {
     "cell_type": "markdown",
     "metadata": {
      "slideshow": {
       "slide_type": "fragment"
      }
     },
     "source": [
      "# \u800c\u4e14\u6211\u96fb\u8166\u4e2d\u6c92\u6709 powerpoint ... XD ... "
     ]
    },
    {
     "cell_type": "markdown",
     "metadata": {
      "slideshow": {
       "slide_type": "subslide"
      }
     },
     "source": [
      "# \u5831\u544a\u5b78\u9577\uff01"
     ]
    },
    {
     "cell_type": "markdown",
     "metadata": {
      "slideshow": {
       "slide_type": "fragment"
      }
     },
     "source": [
      "# \u5b8c\u5168\u6c92\u6709\u3000\uff50\uff4f\uff57\uff45\uff52\uff50\uff4f\uff49\uff4e\uff54\uff01"
     ]
    },
    {
     "cell_type": "markdown",
     "metadata": {
      "slideshow": {
       "slide_type": "fragment"
      }
     },
     "source": [
      "# \u5b8c\u5168\u6c92\u6709\u3000\uff50\uff4f\uff57\uff45\uff52\uff50\uff4f\uff49\uff4e\uff54\uff01"
     ]
    },
    {
     "cell_type": "markdown",
     "metadata": {
      "slideshow": {
       "slide_type": "fragment"
      }
     },
     "source": [
      "# \u5b8c\u5168\u6c92\u6709\u3000\uff50\uff4f\uff57\uff45\uff52\uff50\uff4f\uff49\uff4e\uff54\uff01"
     ]
    },
    {
     "cell_type": "markdown",
     "metadata": {
      "slideshow": {
       "slide_type": "subslide"
      }
     },
     "source": [
      "# \u6240\u4ee5 ... \u53ea\u597d\u300c\u7ffb\u8f49\u300d ppt slides \u4e86 ... "
     ]
    },
    {
     "cell_type": "markdown",
     "metadata": {
      "slideshow": {
       "slide_type": "subslide"
      }
     },
     "source": [
      "# \u8aaa\u5be6\u8a71 ... \u9019\u771f\u7684\u662f\u6211\u7b2c\u4e00\u6b21\u5728 Web Dev \u5834\u5408 ..."
     ]
    },
    {
     "cell_type": "markdown",
     "metadata": {
      "slideshow": {
       "slide_type": "fragment"
      }
     },
     "source": [
      "# \u770b\u5230\u6709\u4eba\u7528 ppt \u4f5c\u7c21\u5831\u7684 ..."
     ]
    },
    {
     "cell_type": "markdown",
     "metadata": {
      "slideshow": {
       "slide_type": "fragment"
      }
     },
     "source": [
      "# \u800c\u4e14\u9084\u9023\u7e8c\u5169\u6b21 ... "
     ]
    },
    {
     "cell_type": "markdown",
     "metadata": {
      "slideshow": {
       "slide_type": "fragment"
      }
     },
     "source": [
      "\n",
      "# \u8ff7\u4e4b\u97f3\uff1a \u800c\u4e14 pptx \u5c0d linux \u5f88\u4e0d\u53cb\u5584 ... (\u6230\u610f\u6eff\u9ede) ... \u73fe\u5728\u662f\u5047\u8a2d linux \u96fb\u8166\u5728 Web Dev \u5708\u90fd\u4e0d\u5b58\u5728\u55ce\uff1f\n"
     ]
    },
    {
     "cell_type": "markdown",
     "metadata": {
      "slideshow": {
       "slide_type": "subslide"
      }
     },
     "source": [
      "# \u6240\u4ee5\uff0c\u70ba\u4e86\u8b93\u5404\u4f4d\u5b78\u54e1\u53ef\u4ee5\u66f4\u5feb\u901f\u878d\u5165 Web Dev \u7684\u6c1b\u570d ... "
     ]
    },
    {
     "cell_type": "markdown",
     "metadata": {
      "slideshow": {
       "slide_type": "fragment"
      }
     },
     "source": [
      "# \u6211\u5efa\u8b70\u5927\u5bb6 ... "
     ]
    },
    {
     "cell_type": "markdown",
     "metadata": {
      "slideshow": {
       "slide_type": "fragment"
      }
     },
     "source": [
      "# \u7121\u9650\u671f\u652f\u6301\u300c\u4e0d\u8981\u7528 ppt \u4f5c\u7c21\u5831\uff01\u300d"
     ]
    },
    {
     "cell_type": "markdown",
     "metadata": {
      "slideshow": {
       "slide_type": "subslide"
      }
     },
     "source": [
      "# \u57fa\u672c\u4e0a\uff0c\u5728 Web \u5708 ... "
     ]
    },
    {
     "cell_type": "markdown",
     "metadata": {
      "slideshow": {
       "slide_type": "fragment"
      }
     },
     "source": [
      "# \u5c31\u7b97\u6c92\u6709\u7528\u500b impress.js : http://bartaz.github.io/impress.js/#/bored"
     ]
    },
    {
     "cell_type": "markdown",
     "metadata": {
      "slideshow": {
       "slide_type": "fragment"
      }
     },
     "source": [
      "# \u6216 prezi : http://prezi.com/ph5vonq5tyiv/?utm_campaign=share&utm_medium=copy&rc=ex0share"
     ]
    },
    {
     "cell_type": "markdown",
     "metadata": {
      "slideshow": {
       "slide_type": "fragment"
      }
     },
     "source": [
      "# \u4e5f\u81f3\u5c11\u6703\u7528 reveal.js \uff1a http://lab.hakim.se/reveal-js/"
     ]
    },
    {
     "cell_type": "markdown",
     "metadata": {
      "slideshow": {
       "slide_type": "subslide"
      }
     },
     "source": [
      "# \u57fa\u672c\u4e0a\uff0c\u5728 Web \u5708 ... \u770b\u5230 ppt ... \u771f\u7684\u662f\u4e16\u754c\u5947\u89c0 ...\n",
      "\n",
      "### \u8ff7\u4e4b\u97f3\uff1a\u9019\u5df2\u7d93\u4e0d\u662f\u300c\u7ffb\u8f49\u4e0d\u7ffb\u8f49\u7684\u554f\u984c\u4e86\u300d ...."
     ]
    },
    {
     "cell_type": "markdown",
     "metadata": {
      "slideshow": {
       "slide_type": "fragment"
      }
     },
     "source": [
      "# \u4f60\u5011\u80fd\u9ad4\u6703\u6211\u7684\u611f\u53d7\u55ce\uff1f "
     ]
    },
    {
     "cell_type": "markdown",
     "metadata": {
      "slideshow": {
       "slide_type": "fragment"
      }
     },
     "source": [
      "# \u4e16\u754c\u5947\u89c0 XD ? (\u7576\u7136\uff0c\u73fe\u5728\u4e0d\u662f\u518d\u6253\u4e16\u7d00\u5e1d\u570b ... )"
     ]
    },
    {
     "cell_type": "markdown",
     "metadata": {
      "slideshow": {
       "slide_type": "fragment"
      }
     },
     "source": [
      "# (\u4e0d\u904e\uff0c\u70ba\u4e86\u8b93\u8ab2\u7a0b\u597d\u73a9 ... \u6211\u5011\u4e5f\u53ef\u4ee5\u5b89\u6392\u4e00\u4e9b\u7834\u95dc\u904a\u6232\u6216\u6d41\u7a0b !!! )"
     ]
    },
    {
     "cell_type": "markdown",
     "metadata": {
      "slideshow": {
       "slide_type": "subslide"
      }
     },
     "source": [
      "# \u6211\u8aaa\u4e86 ... "
     ]
    },
    {
     "cell_type": "markdown",
     "metadata": {
      "slideshow": {
       "slide_type": "fragment"
      }
     },
     "source": [
      "# \u6211\u4e0d\u662f\u4f86\u8a0e\u8ad6\u300c\u7ffb\u8f49\u6559\u5ba4\u300d\u7684\u5b9a\u7fa9 ... \u56e0\u70ba\u6211\u89ba\u5f97\u5b9a\u7fa9\u4e00\u9ede\u90fd\u4e0d\u91cd\u8981 ... "
     ]
    },
    {
     "cell_type": "markdown",
     "metadata": {
      "slideshow": {
       "slide_type": "fragment"
      }
     },
     "source": [
      "# \u91cd\u9ede\u662f\u8981\u771f\u7684\u300c\u7ffb\u8f49\u300d ... \u800c\u4e0d\u662f\u5b9a\u7fa9 ... "
     ]
    },
    {
     "cell_type": "markdown",
     "metadata": {
      "slideshow": {
       "slide_type": "fragment"
      }
     },
     "source": [
      "# \u6211\u78ba\u5be6\u975e\u5e38\u559c\u6b61\u300c\u7ffb\u8f49\u300d\u6771\u897f ... \u4e0d\u7ba1\u662f\u4e0d\u662f\u8eab\u8655\u65bc\u300c\u7ffb\u8f49\u6559\u5ba4\u300d ... "
     ]
    },
    {
     "cell_type": "markdown",
     "metadata": {
      "slideshow": {
       "slide_type": "slide"
      }
     },
     "source": [
      "# \u7ffb\u8f49\u5b8c slides \u5f8c ... "
     ]
    },
    {
     "cell_type": "markdown",
     "metadata": {
      "slideshow": {
       "slide_type": "fragment"
      }
     },
     "source": [
      "# \u6211\u60f3\u5e36\u5927\u5bb6\u4f86\u601d\u8003\u4e00\u4e0b ... "
     ]
    },
    {
     "cell_type": "markdown",
     "metadata": {
      "slideshow": {
       "slide_type": "fragment"
      }
     },
     "source": [
      "# \u7ffb\u8f49\u7684\u300c\u5b78\u7fd2\u6a21\u5f0f\u300d ... "
     ]
    },
    {
     "cell_type": "markdown",
     "metadata": {
      "slideshow": {
       "slide_type": "subslide"
      }
     },
     "source": [
      "# \u8b93\u6211\u5011\u5148\u7c21\u55ae\u7684\u5c0d\u300c\u5b78\u7fd2\u6a21\u5f0f\u300d\u4f5c\u4e9b\u5206\u985e"
     ]
    },
    {
     "cell_type": "markdown",
     "metadata": {
      "slideshow": {
       "slide_type": "subslide"
      }
     },
     "source": [
      "# \u4e0d\u540c\u7684\u5b78\u7fd2\u6a21\u5f0f ... "
     ]
    },
    {
     "cell_type": "markdown",
     "metadata": {
      "slideshow": {
       "slide_type": "fragment"
      }
     },
     "source": [
      "- ## \u77e5\u8b58\u578b VS \u76f4\u89ba\u578b"
     ]
    },
    {
     "cell_type": "markdown",
     "metadata": {
      "slideshow": {
       "slide_type": "fragment"
      }
     },
     "source": [
      "- ## Top-Down VS Botton-Up"
     ]
    },
    {
     "cell_type": "markdown",
     "metadata": {
      "slideshow": {
       "slide_type": "fragment"
      }
     },
     "source": [
      "- ## \u81ea\u5df1\u5b78 VS \u5718\u9ad4\u4f5c\u6230"
     ]
    },
    {
     "cell_type": "markdown",
     "metadata": {
      "slideshow": {
       "slide_type": "fragment"
      }
     },
     "source": [
      "- ## \u5e2b\u751f\u968e\u7d1a VS \u8df3\u812b\u968e\u7d1a\u8207\u89d2\u8272"
     ]
    },
    {
     "cell_type": "markdown",
     "metadata": {
      "slideshow": {
       "slide_type": "slide"
      }
     },
     "source": [
      "# \u77e5\u8b58\u578b VS \u76f4\u89ba\u578b"
     ]
    },
    {
     "cell_type": "markdown",
     "metadata": {
      "slideshow": {
       "slide_type": "fragment"
      }
     },
     "source": [
      "# \u6211\u76f8\u4fe1 ... "
     ]
    },
    {
     "cell_type": "markdown",
     "metadata": {
      "slideshow": {
       "slide_type": "fragment"
      }
     },
     "source": [
      "# \u4f60\u4e0d\u9700\u8981\u5b78\u6703\u300c\u5f88\u597d\u5403\u300d\u9019\u4e09\u500b\u5b57\u600e\u78e8\u5beb ... "
     ]
    },
    {
     "cell_type": "markdown",
     "metadata": {
      "slideshow": {
       "slide_type": "fragment"
      }
     },
     "source": [
      "# \u4e5f\u80fd\u611f\u53d7\u300c\u5f88\u597d\u5403\u300d\u7684\u611f\u89ba ..."
     ]
    },
    {
     "cell_type": "markdown",
     "metadata": {
      "slideshow": {
       "slide_type": "subslide"
      }
     },
     "source": [
      "# \u540c\u6a23\u7684\uff0c\u6211\u76f8\u4fe1 ... "
     ]
    },
    {
     "cell_type": "markdown",
     "metadata": {
      "slideshow": {
       "slide_type": "fragment"
      }
     },
     "source": [
      "# \u4f60\u4e0d\u9700\u8981\u77e5\u9053\u300c\u7ffb\u8f49\u6559\u5ba4\u300d\u7684\u5b9a\u7fa9 ... "
     ]
    },
    {
     "cell_type": "markdown",
     "metadata": {
      "slideshow": {
       "slide_type": "fragment"
      }
     },
     "source": [
      "# \u4e5f\u80fd\u611f\u53d7\u300c\u7ffb\u8f49\u6559\u5ba4\u300d\u7684\u611f\u89ba ..."
     ]
    },
    {
     "cell_type": "markdown",
     "metadata": {
      "slideshow": {
       "slide_type": "subslide"
      }
     },
     "source": [
      "# \u76f8\u4fe1\u5927\u5bb6\u90fd\u807d\u904e\u300c\u5982\u4eba\u98f2\u6c34\uff0c\u51b7\u6696\u81ea\u77e5\uff1f\u300d ... "
     ]
    },
    {
     "cell_type": "markdown",
     "metadata": {
      "slideshow": {
       "slide_type": "fragment"
      }
     },
     "source": [
      "# \u610f\u601d\u662f ......"
     ]
    },
    {
     "cell_type": "markdown",
     "metadata": {
      "slideshow": {
       "slide_type": "fragment"
      }
     },
     "source": [
      "# \u300c\u4e16\u754c\u7684\u5be6\u76f8\u300d\u548c\u300c\u4f60\u7684\u8a8d\u77e5\u300d ... "
     ]
    },
    {
     "cell_type": "markdown",
     "metadata": {
      "slideshow": {
       "slide_type": "fragment"
      }
     },
     "source": [
      "# \u662f\u6bcf\u500b\u4eba\u6700\u91cd\u8981\u7684\u5169\u4f4d\u300c\u8001\u5e2b\u300d ... "
     ]
    },
    {
     "cell_type": "markdown",
     "metadata": {
      "slideshow": {
       "slide_type": "subslide"
      }
     },
     "source": [
      "# \u6240\u4ee5\uff0c\u6211\u4e00\u5411\u652f\u6301 ... "
     ]
    },
    {
     "cell_type": "markdown",
     "metadata": {
      "slideshow": {
       "slide_type": "fragment"
      }
     },
     "source": [
      "- ## \u81ea\u5df1\u7684\u5b78\u7fd2\u76ee\u6a19\uff0c\u81ea\u5df1\u8a2d ... "
     ]
    },
    {
     "cell_type": "markdown",
     "metadata": {
      "slideshow": {
       "slide_type": "fragment"
      }
     },
     "source": [
      "- ## \u81ea\u5df1\u7684\u5b78\u7fd2\u6642\u7a0b\uff0c\u81ea\u5df1\u5b9a ... "
     ]
    },
    {
     "cell_type": "markdown",
     "metadata": {
      "slideshow": {
       "slide_type": "fragment"
      }
     },
     "source": [
      "- ## \u81ea\u5df1\u7684\u5b78\u7fd2\u5925\u4f34\uff0c\u81ea\u5df1\u63ea ... "
     ]
    },
    {
     "cell_type": "markdown",
     "metadata": {
      "slideshow": {
       "slide_type": "subslide"
      }
     },
     "source": [
      "# BTW ... \u6628\u5929 ... Alex \u554f\u6211\u8aaa ... \u751a\u78e8\u662f collaborative filtering \uff1f"
     ]
    },
    {
     "cell_type": "markdown",
     "metadata": {
      "slideshow": {
       "slide_type": "fragment"
      }
     },
     "source": [
      "# \u6211\u8ddf\u4ed6\u8aaa ...... "
     ]
    },
    {
     "cell_type": "markdown",
     "metadata": {
      "slideshow": {
       "slide_type": "fragment"
      }
     },
     "source": [
      "### (\u7576\u4f60\u628a\u81ea\u5df1\u653e\u5728\u67d0\u500b\u60c5\u5883\u6642 ... \u5c31\u7b97\u6c92\u4eba\u6559\u4f60CF ... \u4f60\u4e5f\u53ef\u80fd\u6703\u81ea\u5df1\u767c\u660eCF ... \u9019\u6642\u5019\u4f60\u5b78\u5230\u7684\uff0c\u5c31\u6703\u662f\u771f\u6b63\u7684 CF ... \u4f46\u5982\u679c\u6211\u73fe\u5728\u544a\u8a34\u4f60 ... \u4e5f\u662f\u544a\u8a34\u4f60 CF \u7684\u77e5\u8b58\u7f77\u4e86 ... \u6211\u4e0d\u60f3\u628a\u4f60\u8b8a\u6210\u6a19\u6e96\u7b54\u6848\u641c\u5c0b\u5f15\u64ce ... \u6240\u4ee5\u6211\u6703\u8a2d\u6cd5\u5e6b\u4f60\u71df\u9020\u90a3\u500b\u74b0\u5883\uff0c\u800c\u4e0d\u662f\u76f4\u63a5\u544a\u8a34\u4f60\u7b54\u6848 XD ... )"
     ]
    },
    {
     "cell_type": "markdown",
     "metadata": {
      "slideshow": {
       "slide_type": "slide"
      }
     },
     "source": [
      "# Top-Down VS Botton-Up"
     ]
    },
    {
     "cell_type": "markdown",
     "metadata": {
      "slideshow": {
       "slide_type": "subslide"
      }
     },
     "source": [
      "![](TwoKeys.png)"
     ]
    },
    {
     "cell_type": "markdown",
     "metadata": {
      "slideshow": {
       "slide_type": "subslide"
      }
     },
     "source": [
      "# Top-Down VS Botton-Up"
     ]
    },
    {
     "cell_type": "markdown",
     "metadata": {
      "slideshow": {
       "slide_type": "fragment"
      }
     },
     "source": [
      "- ## Top-Down: \u4e3b\u8981\u5b78\u7fd2\u300c\u554f\u554f\u984c\u300d\u8207\u300c\u62c6\u89e3\u554f\u984c\u300d\u7684\u80fd\u529b"
     ]
    },
    {
     "cell_type": "markdown",
     "metadata": {
      "slideshow": {
       "slide_type": "fragment"
      }
     },
     "source": [
      "- ## Botton-Up: \u5b78\u7fd2\u300c\u5efa\u69cb\u89e3\u7b54\u300d\u7684\u57fa\u790e\u6280\u80fd"
     ]
    },
    {
     "cell_type": "markdown",
     "metadata": {
      "slideshow": {
       "slide_type": "subslide"
      }
     },
     "source": [
      "# \u6524\u958b\u4e00\u5bb6\u516c\u53f8 ... \n",
      "\n",
      "- ## CEO\n",
      "- ## CTO\n",
      "- ## CMO\n",
      "- ## PM\n",
      "- ## Art\n",
      "- ## Front-End Engineer \n",
      "- ## Back-End Engineer \n",
      "- ## MIS \n",
      "- ## ... "
     ]
    },
    {
     "cell_type": "markdown",
     "metadata": {
      "slideshow": {
       "slide_type": "subslide"
      }
     },
     "source": [
      "# \u6bcf\u500b\u4eba\uff0c\u90fd\u6709\u6bcf\u500b\u4eba\u9762\u5c0d\u7684 Top-Down \u548c Botton-Up \u6280\u80fd"
     ]
    },
    {
     "cell_type": "markdown",
     "metadata": {
      "slideshow": {
       "slide_type": "fragment"
      }
     },
     "source": [
      "- ## \u5e36\u8457\u9748\u6d3b\u7684 Top-Down \u89c0\u9ede\uff0c\n",
      "- ## \u57f7\u884c\u624e\u5be6\u7684 Botton-Up \u5de5\u7a0b\uff0c\n",
      "- ## \u662f\u4e0d\u8b8a\u7684\u300c\u91cd\u9ede\u300d\uff01"
     ]
    },
    {
     "cell_type": "markdown",
     "metadata": {
      "slideshow": {
       "slide_type": "subslide"
      }
     },
     "source": [
      "# \u540c\u6a23\u7684 ... \u5b78\u7fd2 Web Dev \u6642 ... "
     ]
    },
    {
     "cell_type": "markdown",
     "metadata": {},
     "source": [
      "# \u6211\u5011\u4e5f\u53ef\u4ee5\u5f9e\u9019\u5169\u7a2e\u5b8c\u5168\u4e0d\u540c\u7684\u89c0\u9ede\u5207\u5165 ... "
     ]
    },
    {
     "cell_type": "markdown",
     "metadata": {
      "slideshow": {
       "slide_type": "subslide"
      }
     },
     "source": [
      "# Web Dev \u7684 Top-Down & Botton-Up:"
     ]
    },
    {
     "cell_type": "markdown",
     "metadata": {
      "slideshow": {
       "slide_type": "fragment"
      }
     },
     "source": [
      "- ## Top-Down \u89c0\u9ede: \u300c\u751a\u78e8\u662f Web\uff1f\u300d\uff0c\u300cWeb \u662f\u751a\u78e8\uff1f\u300d\uff0c\u300cWeb \u89e3\u6c7a\u4e86\u54ea\u4e9b\u554f\u984c\uff1f\u300d ... "
     ]
    },
    {
     "cell_type": "markdown",
     "metadata": {
      "slideshow": {
       "slide_type": "fragment"
      }
     },
     "source": [
      "- ## Botton-Up \u89c0\u9ede: \u300c\u4e00\u500b Web \u7684\u7d50\u69cb\uff1f\u300d\uff0c\u300c\u5982\u4f55\u5efa\u69cb Web\uff1f\u300d\uff0c\u300cWeb Front-End\uff1f\u300d\uff0c\u300cWeb Back-End\uff1f\u300d ... "
     ]
    },
    {
     "cell_type": "markdown",
     "metadata": {
      "slideshow": {
       "slide_type": "subslide"
      }
     },
     "source": [
      "# \u751a\u78e8\u662f Web ? ... Web \u662f\u751a\u78e8\uff1f ..."
     ]
    },
    {
     "cell_type": "markdown",
     "metadata": {
      "slideshow": {
       "slide_type": "fragment"
      }
     },
     "source": [
      "## (\u8ff7\u4e4b\u8072\uff1a\u6709\u6642\u5019\uff0c\u70ba\u4e86\u6fc0\u767c\u5275\u610f\uff0c\u6211\u5011\u5fc5\u9808\u5148\u653e\u4e0b\u5c0d\u65bc\u300c\u6703\u4e0d\u6703\u300d\u8207\u300c\u80fd\u4e0d\u80fd\u300d\u6216\u300c\u662f\u4e0d\u662f\u300d\u7684\u57f7\u8457 ... \uff1f )\n",
      "## (\u8ff7\u4e4b\u8072\uff1a\u6709\u6642\u5019\uff0c\u5b78\u6703\u653e\u4e0b\uff0c\u6bd4\u5b78\u6703\u62ff\u8d77\u9084\u96e3\u4e0a\u8a31\u591a ... \uff1f )"
     ]
    },
    {
     "cell_type": "markdown",
     "metadata": {
      "slideshow": {
       "slide_type": "fragment"
      }
     },
     "source": [
      "- ## Slides ... XD ..."
     ]
    },
    {
     "cell_type": "markdown",
     "metadata": {
      "slideshow": {
       "slide_type": "fragment"
      }
     },
     "source": [
      "- ## \u554f\u5377 ... XD ..."
     ]
    },
    {
     "cell_type": "markdown",
     "metadata": {
      "slideshow": {
       "slide_type": "fragment"
      }
     },
     "source": [
      "- ## (\u4ee5\u4e0b\u958b\u653e\u73fe\u5834\u9109\u6c11\u767c\u8a00 ... \u8acb\u767c\u63ee\u4f60\u7684\u5275\u610f ... )"
     ]
    },
    {
     "cell_type": "markdown",
     "metadata": {
      "slideshow": {
       "slide_type": "subslide"
      }
     },
     "source": [
      "# Web \u7684 Botton-Up \u89c0\u9ede: \n",
      "- ## \u300c\u4e00\u500b Web \u7684\u7d50\u69cb\uff1f\u300d \n",
      "## (\u62c6\u89e3 VS \u5efa\u69cb\uff1a UDacity CS 101 ... Web Crawler & Search Engine )\n",
      "\n",
      "- ## \u300c\u5982\u4f55\u5efa\u69cb Web\uff1f\u300d\uff0c\u300cWeb Back-End\uff1f\u300d (UDacity CS 253)\n",
      "\n",
      "- ## \u300cWeb Front-End\uff1f\u300d (Codeacademy: HTML+CSS / JS / JQuery)\n"
     ]
    },
    {
     "cell_type": "markdown",
     "metadata": {
      "slideshow": {
       "slide_type": "subslide"
      }
     },
     "source": [
      "# \u8ff7\u4e4b\u97f3\uff1a\u963f\u8aaa\u597d\u7684\u300c\u9ad4\u9a57\u300d\u52d2\uff1f\u8aaa\u597d\u7684\u300c\u611f\u89ba\u300d\u52d2\uff1f ... (\u6572\u7897) ... "
     ]
    },
    {
     "cell_type": "markdown",
     "metadata": {
      "slideshow": {
       "slide_type": "fragment"
      }
     },
     "source": [
      "# \u8ff7\u4e4b\u97f3\uff1a\u8aaa\u597d\u7684\u300c\u51b7\u6696\u81ea\u77e5\u300d\u52d2\uff1f ... (\u6572\u7897) ... "
     ]
    },
    {
     "cell_type": "markdown",
     "metadata": {
      "slideshow": {
       "slide_type": "fragment"
      }
     },
     "source": [
      "# (\u7b49\u7b49\u6211\u5011\u6703\u6709 Demo & Discussion Session ... \u4e00\u5b9a\u8b93\u5927\u5bb6\u300c\u6709\u611f\u300d ... \u5225\u6025\u5225\u6025 ... )"
     ]
    },
    {
     "cell_type": "markdown",
     "metadata": {
      "slideshow": {
       "slide_type": "slide"
      }
     },
     "source": [
      "# \u81ea\u5df1\u5b78 VS \u5718\u9ad4\u4f5c\u6230"
     ]
    },
    {
     "cell_type": "markdown",
     "metadata": {
      "slideshow": {
       "slide_type": "subslide"
      }
     },
     "source": [
      "# \u5f9e\u5171\u7b46\u5236\u5ea6 ... (\u8ac7 Open Source \u6316\u5751\u6587\u5316) "
     ]
    },
    {
     "cell_type": "markdown",
     "metadata": {
      "slideshow": {
       "slide_type": "subslide"
      }
     },
     "source": [
      "# \u5171\u7b46\u8d77\u624b\u5f0f ... \n",
      "\n",
      "- ## [Hackpad] https://twcl.hackpad.com/\n",
      "- ## [Github] https://github.com/c3h3/TWCL-CK\n",
      "- ## [ipython notebook + nbviewer] http://nbviewer.ipython.org/github/c3h3/NCKU-Math-Learning-Notes/blob/master/Windows/introduction.ipynb"
     ]
    },
    {
     "cell_type": "markdown",
     "metadata": {
      "slideshow": {
       "slide_type": "subslide"
      }
     },
     "source": [
      "# \u6211\u7406\u60f3\u4e2d\u7684\u300c\u7ffb\u8f49\u300d\u5b78\u7fd2\u5718 ... "
     ]
    },
    {
     "cell_type": "markdown",
     "metadata": {
      "slideshow": {
       "slide_type": "subslide"
      }
     },
     "source": [
      "# \u4e00\u500b\u591a\u8ecc\u4e26\u884c\u7684\u793e\u5718\u805a\u6703 ... "
     ]
    },
    {
     "cell_type": "markdown",
     "metadata": {
      "slideshow": {
       "slide_type": "subslide"
      }
     },
     "source": [
      "# \u524d\u4e00\u9031\u5927\u5bb6\u4e00\u8d77\u5728 FB \u4e0a\uff0c\u4f5c\u8b70\u984c\u63d0\u6848 ...\n",
      "\n",
      "- ## Help Issue\n",
      "- ## \u8a31\u9858\u578b Issue\n",
      "- ## \u6316\u5751\u578b Issue (\u5927\u5718\u9ad4\u5751\uff0c\u5c0f\u5718\u9ad4\u5751\uff0c\u65b0\u767c\u8d77\u5751 ... )\n",
      "- ## \u586b\u5751\u578b Issue"
     ]
    },
    {
     "cell_type": "markdown",
     "metadata": {
      "slideshow": {
       "slide_type": "subslide"
      }
     },
     "source": [
      "# Web Live Demo & Discussion \u6559\u5b78\u6642\u6bb5"
     ]
    },
    {
     "cell_type": "markdown",
     "metadata": {
      "slideshow": {
       "slide_type": "subslide"
      }
     },
     "source": [
      "# \u4e00\u4e9b\u670b\u53cb\u4f5c\u7684 GAE \u7bc4\u4f8b\uff1a"
     ]
    },
    {
     "cell_type": "markdown",
     "metadata": {
      "slideshow": {
       "slide_type": "fragment"
      }
     },
     "source": [
      "- ## [PhillipZ] \u671f\u8ca8\u5373\u6642\u5831\u50f9\u7cfb\u7d71\uff1ahttp://philipzjs.appspot.com/"
     ]
    },
    {
     "cell_type": "markdown",
     "metadata": {
      "slideshow": {
       "slide_type": "fragment"
      }
     },
     "source": [
      "- ## [Toomore] goristock: http://goristock.appspot.com/ \n",
      "\n",
      "(\u65b0\u7248\u70ba grs http://grs.toomore.net/)"
     ]
    },
    {
     "cell_type": "markdown",
     "metadata": {
      "slideshow": {
       "slide_type": "fragment"
      }
     },
     "source": [
      "- ## [Mosky] enjoy-bus: http://enjoy-bus.appspot.com/"
     ]
    }
   ],
   "metadata": {}
  }
 ]
}